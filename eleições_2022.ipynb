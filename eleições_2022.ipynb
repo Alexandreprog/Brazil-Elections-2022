{
  "nbformat": 4,
  "nbformat_minor": 0,
  "metadata": {
    "colab": {
      "provenance": [],
      "collapsed_sections": [],
      "authorship_tag": "ABX9TyOEUBEmsAWEEPOOaM9cFvYU"
    },
    "kernelspec": {
      "name": "python3",
      "display_name": "Python 3"
    },
    "language_info": {
      "name": "python"
    }
  },
  "cells": [
    {
      "cell_type": "code",
      "execution_count": 1,
      "metadata": {
        "colab": {
          "base_uri": "https://localhost:8080/"
        },
        "id": "pZcL7LbpnZOp",
        "outputId": "577ef580-200b-4089-a564-aec1a8fda99f"
      },
      "outputs": [
        {
          "output_type": "stream",
          "name": "stdout",
          "text": [
            "       Candidato   Numero de Votos  Porcentagem  Partido\n",
            "0            LULA         57259405        48,43      PT \n",
            "1  JAIR BOLSONARO         51072234        43,20      PL \n",
            "2    SIMONE TEBET          4915420         4,16      MDB\n",
            "3      CIRO GOMES          3599285         3,04      PDT\n",
            " \n",
            "Total em porcentagem de urnas apuradas 99,99 %\n",
            "A diferenca de votos entre o primeiro e o segundo lugar é  6187171\n"
          ]
        }
      ],
      "source": [
        "import requests\n",
        "import json\n",
        "import pandas as pd\n",
        "\n",
        "data = requests.get('https://resultados.tse.jus.br/oficial/ele2022/544/dados-simplificados/br/br-c0001-e000544-r.json')\n",
        "\n",
        "json_data = json.loads(data.content)\n",
        "\n",
        "candidato = []\n",
        "partido = []\n",
        "votos = []\n",
        "porcentagem = []\n",
        "\n",
        "#variáveis para facilitar a leitura do código\n",
        "dados_candidato = 'cand'\n",
        "sequencia = 'seq'\n",
        "nome_candidato = 'nm'\n",
        "n_votos = 'vap'\n",
        "porcentagem_votos = 'pvap'\n",
        "nome_partido = 'cc'\n",
        "\n",
        "\n",
        "for informacoes in json_data[dados_candidato]:\n",
        "    \n",
        "    if informacoes[sequencia] in ['1', '2', '3', '4']:\n",
        "        candidato.append(informacoes[nome_candidato])\n",
        "        votos.append(informacoes[n_votos])\n",
        "        porcentagem.append(informacoes[porcentagem_votos])\n",
        "        partido.append(informacoes[nome_partido][:3])#[:3] para limitar o tamanho da string\n",
        "        \n",
        "df_eleicao = pd.DataFrame(list(zip(candidato, votos, porcentagem, partido)), columns = [\n",
        "    'Candidato ', ' Numero de Votos', ' Porcentagem', ' Partido'\n",
        "])\n",
        "\n",
        "print(df_eleicao)\n",
        "print(\" \")\n",
        "print('Total em porcentagem de urnas apuradas',json_data['pst'],'%')\n",
        "\n",
        "print('A diferenca de votos entre o primeiro e o segundo lugar é ', int(votos[0]) - int(votos[1]))\n",
        "\n",
        "#print(partido)\n",
        "\n",
        "#print(votos[0])"
      ]
    }
  ]
}