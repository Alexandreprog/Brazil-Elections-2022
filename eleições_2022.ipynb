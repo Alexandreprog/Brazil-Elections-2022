{
  "nbformat": 4,
  "nbformat_minor": 0,
  "metadata": {
    "colab": {
      "provenance": [],
      "authorship_tag": "ABX9TyP8R0v+E1f//2ucUoSb6emI"
    },
    "kernelspec": {
      "name": "python3",
      "display_name": "Python 3"
    },
    "language_info": {
      "name": "python"
    }
  },
  "cells": [
    {
      "cell_type": "code",
      "execution_count": 1,
      "metadata": {
        "colab": {
          "base_uri": "https://localhost:8080/"
        },
        "id": "pZcL7LbpnZOp",
        "outputId": "d61c817e-29be-4a65-996a-67467a7d5bc1"
      },
      "outputs": [
        {
          "output_type": "stream",
          "name": "stdout",
          "text": [
            "       Candidato   Numero de Votos  Porcentagem  Partido\n",
            "0            LULA         57259504        48,43      PT \n",
            "1  JAIR BOLSONARO         51072345        43,20      PL \n",
            "2    SIMONE TEBET          4915423         4,16      MDB\n",
            "3      CIRO GOMES          3599287         3,04      PDT\n",
            " \n",
            "Total em porcentagem de urnas apuradas: 100,00 %\n",
            " \n",
            "A diferenca de votos entre o primeiro e o segundo lugar eh: 6187159\n",
            " \n",
            "Total de votos nulos: 3487874\n"
          ]
        }
      ],
      "source": [
        "import requests\n",
        "import json\n",
        "import pandas as pd\n",
        "\n",
        "data = requests.get('https://resultados.tse.jus.br/oficial/ele2022/544/dados-simplificados/br/br-c0001-e000544-r.json')\n",
        "\n",
        "json_data = json.loads(data.content)\n",
        "\n",
        "candidato = []\n",
        "partido = []\n",
        "votos = []\n",
        "porcentagem = []\n",
        "\n",
        "#variáveis para facilitar a leitura do código\n",
        "dados_candidato = 'cand'\n",
        "sequencia = 'seq'\n",
        "nome_candidato = 'nm'\n",
        "n_votos = 'vap'\n",
        "porcentagem_votos = 'pvap'\n",
        "nome_partido = 'cc'\n",
        "\n",
        "\n",
        "for informacoes in json_data[dados_candidato]:\n",
        "    \n",
        "    if informacoes[sequencia] in ['1', '2', '3', '4']:\n",
        "        candidato.append(informacoes[nome_candidato])\n",
        "        votos.append(informacoes[n_votos])\n",
        "        porcentagem.append(informacoes[porcentagem_votos])\n",
        "        partido.append(informacoes[nome_partido][:3])#[:3] para limitar o tamanho da string\n",
        "        \n",
        "df_eleicao = pd.DataFrame(list(zip(candidato, votos, porcentagem, partido)), columns = [\n",
        "    'Candidato ', ' Numero de Votos', ' Porcentagem', ' Partido'\n",
        "])\n",
        "\n",
        "print(df_eleicao)\n",
        "print(\" \")\n",
        "print('Total em porcentagem de urnas apuradas:',json_data['pst'],'%')\n",
        "print(\" \")\n",
        "print('A diferenca de votos entre o primeiro e o segundo lugar eh:', int(votos[0]) - int(votos[1]))\n",
        "print(\" \")\n",
        "print('Total de votos nulos:',json_data['vn'])\n",
        "\n",
        "#print(partido)\n",
        "\n",
        "#print(votos[0])"
      ]
    },
    {
      "cell_type": "code",
      "source": [
        "import matplotlib.pyplot as plt\n",
        "\n",
        "\n",
        "labels = df_eleicao[' Partido']\n",
        "sizes = df_eleicao[' Numero de Votos']\n",
        "\n",
        "colors = ['#ff9999','#66b3ff','#99ff99','#ffcc99']\n",
        "\n",
        "# Cria o gráfico de pizza\n",
        "fig1, ax1 = plt.subplots(figsize=(8,8))\n",
        "ax1.pie(sizes, colors=colors, labels=labels, autopct='%1.1f%%', startangle=90)\n",
        "\n",
        "# Define o título do gráfico\n",
        "ax1.set_title(\"Distribuição de Votos\")\n",
        "\n",
        "# Mostra o gráfico na tela\n",
        "plt.show()"
      ],
      "metadata": {
        "colab": {
          "base_uri": "https://localhost:8080/",
          "height": 482
        },
        "id": "Ym4y7aeQPIFx",
        "outputId": "880164c4-b756-4d26-d24e-4e226a23bb74"
      },
      "execution_count": 27,
      "outputs": [
        {
          "output_type": "display_data",
          "data": {
            "text/plain": [
              "<Figure size 576x576 with 1 Axes>"
            ],
            "image/png": "[encoded data removed]"
          },
          "metadata": {}
        }
      ]
    }
  ]
}